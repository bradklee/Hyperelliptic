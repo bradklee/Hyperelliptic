{
 "cells": [
  {
   "cell_type": "markdown",
   "metadata": {},
   "source": [
    "Title: A Picard-Fuchs Algorithm for Hyperelliptic Level Curves."
   ]
  },
  {
   "cell_type": "code",
   "execution_count": null,
   "metadata": {},
   "outputs": [],
   "source": [
    "Author: Bradley Klee"
   ]
  },
  {
   "cell_type": "code",
   "execution_count": null,
   "metadata": {},
   "outputs": [],
   "source": [
    "License: GPLv3. "
   ]
  },
  {
   "cell_type": "code",
   "execution_count": 1,
   "metadata": {},
   "outputs": [],
   "source": [
    "\\\\Input: Polynomial potential function V(x)\n",
    "\\\\Output: One-form reduction matrices\n",
    "{HyperEllipticData(poly)=\n",
    "my(deg,Gx,GL,GR,ID,InvG);\n",
    "deg=poldegree(poly,x);\n",
    "Gz=matrix(2*deg-1,2*deg-1,j,k,if(j==k&&k<deg,z,0));\n",
    "GL=matrix(2*deg-1,2*deg-1,j,k,if(0<j-k&&j-k<=deg&&k<deg,-2*polcoef(poly,j-k),0));\n",
    "GR=matrix(2*deg-1,2*deg-1,j,k,if(k>=deg&&j-(k-deg)>0&&j-(k-deg)<=deg,-(j-(k-deg))*polcoef(poly,j-(k-deg)),0));\n",
    "ID=matrix(2*deg-1,2*deg-1,j,k,if(j==k,1,0));\n",
    "InvG=matinverseimage(Gz+GL+GR,ID);\n",
    "MU=matrix(deg-1,deg-1,j,k,InvG[j,k]);\n",
    "MV=matrix(deg,deg-1,j,k,InvG[j+deg-1,k]);\n",
    "dMV=matrix(deg-1,deg-1,j,k,j*MV[j+1,k]);\n",
    "[deg,MU,MV,dMV]};"
   ]
  },
  {
   "cell_type": "code",
   "execution_count": 2,
   "metadata": {},
   "outputs": [],
   "source": [
    "\\\\Input: One-form and One-form reduction matrices\n",
    "\\\\Output: Certified, hermite-reduced one form \n",
    "{HermiteReduce(dtform,cert,dat,n)=if(n==0,[dtform,cert],\n",
    "HermiteReduce((dat[2]+1/(2*n-1)*dat[4])*dtform,\n",
    "cert+1/((2*n-1)*y^(2*n-1))*dat[3]*dtform,\n",
    "dat,n-1))};"
   ]
  },
  {
   "cell_type": "code",
   "execution_count": 3,
   "metadata": {},
   "outputs": [],
   "source": [
    "\\\\n!!\n",
    "{DoubleFactorial(n) = prod(i=0, (n-1)\\2, n - 2*i )};"
   ]
  },
  {
   "cell_type": "code",
   "execution_count": 4,
   "metadata": {},
   "outputs": [],
   "source": [
    "\\\\Input: Parity Boolean, one-form reduction matrices\n",
    "\\\\Output: Raw Picard-Fuchs data\n",
    "{PeriodBasis(sym,dat)=\n",
    "my(d,dt,bound,reduction);\n",
    "d=dat[1];\n",
    "dt=vector(d-1,j,if(j==1,1,0))~;\n",
    "bound=2*if(sym==0,floor((d-1)/2),floor(d/4));\n",
    "decomposition=concat([[dt,vector(dat[1],j,0)~]],\n",
    "vector(bound,j,HermiteReduce(((-1/2)^j)*DoubleFactorial(2*j-1)*dt,0,dat,j)));\n",
    "[vector(bound+1,j,decomposition[j][1]),\n",
    "vector(bound+1,j,vector(dat[1],j,x^(j-1))*decomposition[j][2]),\n",
    "concat([1],vector(bound,j,((-1/(2*y^2))^(j)*DoubleFactorial(2*j-1))))]};"
   ]
  },
  {
   "cell_type": "code",
   "execution_count": 5,
   "metadata": {},
   "outputs": [],
   "source": [
    "\\\\Input: Polynomial Potential Function V(x)\n",
    "\\\\Output: Processed Picard-Fuchs data\n",
    "{HyperellipticPicardFuchs(poly)=\n",
    "my(HEDat,sym,decomposition,PFCs);\n",
    "sym=if(subst(poly,x,-x)-poly==0,1,0);\n",
    "HEDat = HyperEllipticData(poly);\n",
    "decomposition = PeriodBasis(sym,HEDat);\n",
    "PFCs=lindep(decomposition[1]);\n",
    "[(1/2)*y^2+poly,decomposition[3]*dt,PFCs,decomposition[2]*PFCs]};"
   ]
  },
  {
   "cell_type": "code",
   "execution_count": 6,
   "metadata": {},
   "outputs": [],
   "source": [
    "\\\\Input: Processed Picard-Fuchs data\n",
    "\\\\Output: Boolean check value 0\n",
    "{CheckCertificate(PFData)=\n",
    "y^(2*length(PFData[2])-2)*(\n",
    "deriv(PFData[4],x)*deriv(PFData[1],y)\n",
    "+deriv(PFData[4],y)*deriv(-PFData[1],x)\n",
    "+PFData[2]*PFData[3]/dt)%(2*PFData[1]-z)\n",
    "};"
   ]
  },
  {
   "cell_type": "code",
   "execution_count": 7,
   "metadata": {},
   "outputs": [
    {
     "data": {
      "text/plain": [
       "[[3, 32*z - 16, 16*z^2 - 16*z]~, 0]"
      ]
     },
     "execution_count": 7,
     "metadata": {},
     "output_type": "execute_result"
    }
   ],
   "source": [
    "\\\\(Cf. OEIS: A113424 )\n",
    "PFData = HyperellipticPicardFuchs((1/2)*(x^2-(1/4)*x^4));\n",
    "[PFData[3],CheckCertificate(PFData)]"
   ]
  },
  {
   "cell_type": "code",
   "execution_count": 8,
   "metadata": {},
   "outputs": [
    {
     "data": {
      "text/plain": [
       "[[-5, -72*z + 36, -36*z^2 + 36*z], 0]"
      ]
     },
     "execution_count": 8,
     "metadata": {},
     "output_type": "execute_result"
    }
   ],
   "source": [
    "\\\\(Cf. OEIS: A000897 )\n",
    "PFData = HyperellipticPicardFuchs((1/2)*(x^2-c*x^3));\n",
    "[-vector(3,j,9/4*(polcoef(PFData[3][j],2,c)*4/27+polcoef(PFData[3][j],0,c))),CheckCertificate(PFData)]"
   ]
  },
  {
   "cell_type": "code",
   "execution_count": 9,
   "metadata": {},
   "outputs": [
    {
     "data": {
      "text/plain": [
       "[[5*z, 27*z^2 - 9, 9*z^3 - 9*z]~, 0]"
      ]
     },
     "execution_count": 9,
     "metadata": {},
     "output_type": "execute_result"
    }
   ],
   "source": [
    "\\\\(Cf. OEIS: A113424 )\n",
    "PFData = HyperellipticPicardFuchs((1/2)*(x^2-(4/27)*x^6));\n",
    "[-PFData[3],CheckCertificate(PFData)]"
   ]
  },
  {
   "cell_type": "code",
   "execution_count": 10,
   "metadata": {
    "scrolled": false
   },
   "outputs": [
    {
     "data": {
      "text/plain": [
       "[[(1152*b^4*a^2 - 3072*b^5)*z^2 + (-18*b*a^6 + 144*b^2*a^4 + 96*b^3*a^2 - 1536*b^4)*z + (15*a^6 - 132*b*a^4 + 336*b^2*a^2 - 192*b^3), (12288*b^4*a^2 - 32768*b^5)*z^3 + (648*b*a^6 - 5184*b^2*a^4 + 15360*b^3*a^2 - 20480*b^4)*z^2 + (216*a^6 - 2016*b*a^4 + 5632*b^2*a^2 - 4096*b^3)*z + (-16*a^4 + 128*b*a^2 - 256*b^2), (6144*b^4*a^2 - 16384*b^5)*z^4 + (648*b*a^6 - 5184*b^2*a^4 + 13312*b^3*a^2 - 12288*b^4)*z^3 + (108*a^6 - 1104*b*a^4 + 3456*b^2*a^2 - 3072*b^3)*z^2 + (-16*a^4 + 128*b*a^2 - 256*b^2)*z]~, 0]"
      ]
     },
     "execution_count": 10,
     "metadata": {},
     "output_type": "execute_result"
    }
   ],
   "source": [
    "\\\\two-parameter elliptic stratum \n",
    "PFData = HyperellipticPicardFuchs((1/2)*(x^2+a*x^3+b*x^4));\n",
    "[PFData[3],CheckCertificate(PFData)]"
   ]
  },
  {
   "cell_type": "code",
   "execution_count": 11,
   "metadata": {},
   "outputs": [
    {
     "data": {
      "text/plain": [
       "[[3, 1, 0], [4, 1, 0], [5, 2, 0], [6, 2, 0], [7, 3, 0], [8, 3, 0]]"
      ]
     },
     "execution_count": 11,
     "metadata": {},
     "output_type": "execute_result"
    }
   ],
   "source": [
    "\\\\genus-degree formula: g = floor((d-1)/2) .\n",
    "\\\\for d=3,4,5,6... ; g=1,1,2,2...  \n",
    "v=[];\n",
    "for(d=3,8,{\n",
    "PFData = HyperellipticPicardFuchs((1/2)*(x^2+x^3+x^d));\n",
    "v=concat(v,[[d,(length(PFData[3])-1)/2,CheckCertificate(PFData)]])\n",
    "})\n",
    "v"
   ]
  },
  {
   "cell_type": "code",
   "execution_count": 12,
   "metadata": {},
   "outputs": [
    {
     "data": {
      "text/plain": [
       "[[2, 1, 0], [3, 1, 0], [4, 2, 0], [5, 2, 0], [6, 3, 0], [7, 3, 0]]"
      ]
     },
     "execution_count": 12,
     "metadata": {},
     "output_type": "execute_result"
    }
   ],
   "source": [
    "\\\\apparent genus-degree formula: g' = floor(d/4) .\n",
    "\\\\for d=4,6,8,10... ; g=1,1,2,2...  \n",
    "v=[];\n",
    "for(d=2,7,{\n",
    "PFData = HyperellipticPicardFuchs((1/2)*(x^2+x^(2*d)));\n",
    "v=concat(v,[[d,(length(PFData[3])-1)/2,CheckCertificate(PFData)]])\n",
    "})\n",
    "v"
   ]
  },
  {
   "cell_type": "markdown",
   "metadata": {},
   "source": [
    "Parity symmetry allows quotient decomposition of the Riemann surface into two equal pieces, how neat!"
   ]
  }
 ],
 "metadata": {
  "kernelspec": {
   "display_name": "PARI/GP",
   "language": "gp",
   "name": "pari_jupyter"
  },
  "language_info": {
   "file_extension": "gp",
   "mimetype": "text/x-pari-gp",
   "name": "gp"
  }
 },
 "nbformat": 4,
 "nbformat_minor": 2
}
