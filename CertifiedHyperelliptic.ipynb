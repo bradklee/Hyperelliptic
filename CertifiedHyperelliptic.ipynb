{
 "cells": [
  {
   "cell_type": "markdown",
   "metadata": {},
   "source": [
    "Title: A Picard-Fuchs Algorithm for Hyperelliptic Level Curves."
   ]
  },
  {
   "cell_type": "markdown",
   "metadata": {},
   "source": [
    "Author: Bradley Klee"
   ]
  },
  {
   "cell_type": "markdown",
   "metadata": {},
   "source": [
    "License: GPLv3. "
   ]
  },
  {
   "cell_type": "code",
   "execution_count": 1,
   "metadata": {},
   "outputs": [],
   "source": [
    "\\\\Input: Polynomial potential function V(x)\n",
    "\\\\Output: Matrix encoding of Hermite reduction \n",
    "{MatrixG(poly,deg)=\n",
    "my(Gx,GL,GR);\n",
    "Gz=matrix(2*deg-1,2*deg-1,j,k,if(j==k&&k<deg,z,0));\n",
    "GL=matrix(2*deg-1,2*deg-1,j,k,if(0<j-k&&j-k<=deg&&k<deg,-2*polcoef(poly,j-k),0));\n",
    "GR=matrix(2*deg-1,2*deg-1,j,k,if(k>=deg&&j-(k-deg)>0&&j-(k-deg)<=deg,-(j-(k-deg))*polcoef(poly,j-(k-deg)),0));\n",
    "Gz+GL+GR};"
   ]
  },
  {
   "cell_type": "code",
   "execution_count": 2,
   "metadata": {},
   "outputs": [],
   "source": [
    "\\\\Input: Polynomial potential function V(x)\n",
    "\\\\Output: One-form reduction matrices\n",
    "{ReductionData(poly,deg)=\n",
    "my(ID,InvG,MU,MV,dMV);\n",
    "ID=matrix(2*deg-1,2*deg-1,j,k,if(j==k,1,0));\n",
    "InvG=matinverseimage(MatrixG(poly,deg),ID);\n",
    "MU=matrix(deg-1,deg-1,j,k,InvG[j,k]);\n",
    "MV=matrix(deg,deg-1,j,k,InvG[j+deg-1,k]);\n",
    "dMV=matrix(deg-1,deg-1,j,k,j*MV[j+1,k]);\n",
    "[MU,dMV,MV]};"
   ]
  },
  {
   "cell_type": "code",
   "execution_count": 3,
   "metadata": {},
   "outputs": [],
   "source": [
    "\\\\Input: One-form and One-form reduction matrices\n",
    "\\\\Output: Certified, hermite-reduced one form \n",
    "{HermiteReduce(dtform,cert,dat,n)=if(n==0,[dtform,cert],\n",
    "HermiteReduce((dat[1]+1/(2*n-1)*dat[2])*dtform,\n",
    "cert+1/((2*n-1)*y^(2*n-1))*dat[3]*dtform,\n",
    "dat,n-1))};"
   ]
  },
  {
   "cell_type": "code",
   "execution_count": 4,
   "metadata": {},
   "outputs": [],
   "source": [
    "\\\\n!!\n",
    "{DoubleFactorial(n) = prod(i=0, (n-1)\\2, n - 2*i )};"
   ]
  },
  {
   "cell_type": "code",
   "execution_count": 5,
   "metadata": {},
   "outputs": [],
   "source": [
    "\\\\Input: Parity Boolean, one-form reduction matrices\n",
    "\\\\Output: Raw Picard-Fuchs data\n",
    "{PeriodBasis(sym,deg,dat)=\n",
    "my(dt,bound,reduction);\n",
    "dt=vector(deg-1,j,if(j==1,1,0))~;\n",
    "bound=2*if(sym==0,floor((deg-1)/2),floor(deg/4));\n",
    "decomposition=concat([[dt,vector(deg,j,0)~]],\n",
    "vector(bound,j,HermiteReduce(((-1/2)^j)*DoubleFactorial(2*j-1)*dt,0,dat,j)));\n",
    "[vector(bound+1,j,decomposition[j][1]),\n",
    "vector(bound+1,j,vector(deg,j,x^(j-1))*decomposition[j][2]),\n",
    "concat([1],vector(bound,j,((-1/(2*y^2))^(j)*DoubleFactorial(2*j-1))))]};"
   ]
  },
  {
   "cell_type": "code",
   "execution_count": 6,
   "metadata": {},
   "outputs": [],
   "source": [
    "\\\\Input: Polynomial Potential Function V(x)\n",
    "\\\\Output: Processed Picard-Fuchs data\n",
    "{HyperellipticPicardFuchs(poly)=\n",
    "my(deg,sym,dat,decomposition,PFCs);\n",
    "deg=poldegree(poly);\n",
    "sym=if(subst(poly,x,-x)-poly==0,1,0);\n",
    "dat = ReductionData(poly,deg);\n",
    "decomposition = PeriodBasis(sym,deg,dat);\n",
    "PFCs=lindep(decomposition[1]);\n",
    "[(1/2)*y^2+poly,decomposition[3]*dt,PFCs,decomposition[2]*PFCs]};"
   ]
  },
  {
   "cell_type": "code",
   "execution_count": 7,
   "metadata": {},
   "outputs": [],
   "source": [
    "\\\\Input: Processed Picard-Fuchs data\n",
    "\\\\Output: Boolean check value 0\n",
    "{CheckCertificate(PFData)=\n",
    "y^(2*length(PFData[2])-2)*(\n",
    "deriv(PFData[4],x)*deriv(PFData[1],y)\n",
    "+deriv(PFData[4],y)*deriv(-PFData[1],x)\n",
    "+PFData[2]*PFData[3]/dt)%(2*PFData[1]-z)\n",
    "};"
   ]
  },
  {
   "cell_type": "markdown",
   "metadata": {},
   "source": [
    "Print a few G matrices. "
   ]
  },
  {
   "cell_type": "code",
   "execution_count": 35,
   "metadata": {},
   "outputs": [
    {
     "data": {
      "text/plain": [
       "\n",
       "[   z    0    0    0    0   -a    0    0    0    0    0]\n",
       "\n",
       "[-2*a    z    0    0    0 -2*b   -a    0    0    0    0]\n",
       "\n",
       "[-2*b -2*a    z    0    0 -3*c -2*b   -a    0    0    0]\n",
       "\n",
       "[-2*c -2*b -2*a    z    0 -4*d -3*c -2*b   -a    0    0]\n",
       "\n",
       "[-2*d -2*c -2*b -2*a    z -5*e -4*d -3*c -2*b   -a    0]\n",
       "\n",
       "[-2*e -2*d -2*c -2*b -2*a -6*f -5*e -4*d -3*c -2*b   -a]\n",
       "\n",
       "[-2*f -2*e -2*d -2*c -2*b    0 -6*f -5*e -4*d -3*c -2*b]\n",
       "\n",
       "[   0 -2*f -2*e -2*d -2*c    0    0 -6*f -5*e -4*d -3*c]\n",
       "\n",
       "[   0    0 -2*f -2*e -2*d    0    0    0 -6*f -5*e -4*d]\n",
       "\n",
       "[   0    0    0 -2*f -2*e    0    0    0    0 -6*f -5*e]\n",
       "\n",
       "[   0    0    0    0 -2*f    0    0    0    0    0 -6*f]\n"
      ]
     },
     "execution_count": 35,
     "metadata": {},
     "output_type": "execute_result"
    }
   ],
   "source": [
    "\\\\The G Matrix is always invertible. \n",
    "coeffs = [a,b,c,d,e,f];\n",
    "vars = [x,x^2,x^3,x^4,x^5,x^6]~;\n",
    "MatrixG(coeffs[1..3]*vars[1..3],3)\n",
    "MatrixG(coeffs[1..4]*vars[1..4],4)\n",
    "MatrixG(coeffs[1..5]*vars[1..5],5)\n",
    "MatrixG(coeffs[1..6]*vars[1..6],6)"
   ]
  },
  {
   "cell_type": "markdown",
   "metadata": {},
   "source": [
    "Print a few hypergeometric differential equations."
   ]
  },
  {
   "cell_type": "code",
   "execution_count": 9,
   "metadata": {},
   "outputs": [
    {
     "data": {
      "text/plain": [
       "[[3, 32*z - 16, 16*z^2 - 16*z]~, 0]"
      ]
     },
     "execution_count": 9,
     "metadata": {},
     "output_type": "execute_result"
    }
   ],
   "source": [
    "\\\\(Cf. OEIS: A000897 )\n",
    "PFData = HyperellipticPicardFuchs((1/2)*(x^2-(1/4)*x^4));\n",
    "[PFData[3],CheckCertificate(PFData)]"
   ]
  },
  {
   "cell_type": "code",
   "execution_count": 24,
   "metadata": {},
   "outputs": [
    {
     "data": {
      "text/plain": [
       "[[5, 72*z - 36, 36*z^2 - 36*z], 0]"
      ]
     },
     "execution_count": 24,
     "metadata": {},
     "output_type": "execute_result"
    }
   ],
   "source": [
    "\\\\(Cf. OEIS: A113424 )\n",
    "PFData = HyperellipticPicardFuchs((1/2)*(x^2-c*x^3));\n",
    "[-vector(3,j,9/4*(polcoef(PFData[3][j],2,c)*(4/27)+polcoef(PFData[3][j],0,c))),CheckCertificate(PFData)]"
   ]
  },
  {
   "cell_type": "code",
   "execution_count": 68,
   "metadata": {},
   "outputs": [
    {
     "data": {
      "text/plain": [
       "[5, 72*z - 36, 36*z^2 - 36*z]"
      ]
     },
     "execution_count": 68,
     "metadata": {},
     "output_type": "execute_result"
    }
   ],
   "source": [
    "\\\\two-parameter elliptic stratum \n",
    "PFData = HyperellipticPicardFuchs((1/2)*(x^2+a*x^3+b*x^4));\n",
    "[PFData[3],CheckCertificate(PFData)]\n",
    "subst(subst(PFData[3],a,0),b,-1/4)/(-1+2*z-z^2)\n",
    "pfdat = subst(PFData[3],b,0)/a^4;\n",
    "-vector(3,j,9/4*(polcoef(pfdat[j],2,a)*4/27+polcoef(pfdat[j],0,a)))"
   ]
  },
  {
   "cell_type": "markdown",
   "metadata": {},
   "source": [
    "Examples in Genus 2. "
   ]
  },
  {
   "cell_type": "code",
   "execution_count": 67,
   "metadata": {},
   "outputs": [
    {
     "data": {
      "text/plain": [
       "[[5*z, 27*z^2 - 9, 9*z^3 - 9*z]~, 0]"
      ]
     },
     "execution_count": 67,
     "metadata": {},
     "output_type": "execute_result"
    }
   ],
   "source": [
    "\\\\ Parity symmetric sextic (Cf. OEIS: A113424).\n",
    "\\\\ 2F1 parameters: (a,b,c) = (1/6,5/6,1).\n",
    "PFData = HyperellipticPicardFuchs((1/2)*(x^2-(4/27)*x^6));\n",
    "[-PFData[3],CheckCertificate(PFData)]"
   ]
  },
  {
   "cell_type": "code",
   "execution_count": 66,
   "metadata": {
    "scrolled": false
   },
   "outputs": [
    {
     "data": {
      "text/plain": [
       "5"
      ]
     },
     "execution_count": 66,
     "metadata": {},
     "output_type": "execute_result"
    }
   ],
   "source": [
    "\\\\ Asymmetric sextic.\n",
    "PFData = HyperellipticPicardFuchs((1/2)*(x^2-x^3-(4/27)*x^6));\n",
    "[-PFData[3],CheckCertificate(PFData)]\n",
    "length(PFData[3])"
   ]
  },
  {
   "cell_type": "markdown",
   "metadata": {},
   "source": [
    "Genus-Degree Formulas"
   ]
  },
  {
   "cell_type": "code",
   "execution_count": 63,
   "metadata": {},
   "outputs": [
    {
     "data": {
      "text/plain": [
       "[[3, 1, 0, 0], [4, 1, 0, 0], [5, 2, 0, 0], [6, 2, 0, 0], [7, 3, 0, 0], [8, 3, 0, 0]]"
      ]
     },
     "execution_count": 63,
     "metadata": {},
     "output_type": "execute_result"
    }
   ],
   "source": [
    "\\\\genus-degree formula: g = floor((d-1)/2) .\n",
    "\\\\for d=3,4,5,6... ; g=1,1,2,2...  \n",
    "v=[];\n",
    "for(deg=3,8,{\n",
    "RandCoeffs = vector(deg,j,random(10));\n",
    "Monomials = vector(deg,j,x^j)~;\n",
    "PFData = HyperellipticPicardFuchs(RandCoeffs*Monomials+x^deg);\n",
    "CheckZeros = [a==0|a<-PFData[3]]*vector(length(PFData[3]),j,1)~;\n",
    "v=concat(v,[[deg,(length(PFData[3])-1)/2,CheckZeros,CheckCertificate(PFData)]]);\n",
    "})\n",
    "v"
   ]
  },
  {
   "cell_type": "code",
   "execution_count": 65,
   "metadata": {},
   "outputs": [
    {
     "data": {
      "text/plain": [
       "[[4, 1, 0, 0], [6, 1, 0, 0], [8, 2, 0, 0], [10, 2, 0, 0], [12, 3, 0, 0], [14, 3, 0, 0]]"
      ]
     },
     "execution_count": 65,
     "metadata": {},
     "output_type": "execute_result"
    }
   ],
   "source": [
    "\\\\apparent genus-degree formula: g' = floor(d/4) .\n",
    "\\\\for d=4,6,8,10... ; g'=1,1,2,2...  \n",
    "v=[];\n",
    "for(deg=2,7,{\n",
    "RandCoeffs = vector(deg,j,random(10));\n",
    "Monomials = vector(deg,j,x^(2*j))~;\n",
    "PFData = HyperellipticPicardFuchs(RandCoeffs*Monomials+x^(2*deg));\n",
    "CheckZeros = [a==0|a<-PFData[3]]*vector(length(PFData[3]),j,1)~;\n",
    "v=concat(v,[[2*deg,(length(PFData[3])-1)/2,CheckZeros,CheckCertificate(PFData)]]);\n",
    "})\n",
    "v"
   ]
  },
  {
   "cell_type": "markdown",
   "metadata": {},
   "source": [
    "Parity symmetry allows quotient decomposition of the Riemann surface into two equal pieces, how neat"
   ]
  }
 ],
 "metadata": {
  "kernelspec": {
   "display_name": "PARI/GP",
   "language": "gp",
   "name": "pari_jupyter"
  },
  "language_info": {
   "file_extension": "gp",
   "mimetype": "text/x-pari-gp",
   "name": "gp"
  }
 },
 "nbformat": 4,
 "nbformat_minor": 2
}
